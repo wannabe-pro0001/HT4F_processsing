{
 "cells": [
  {
   "cell_type": "code",
   "execution_count": 1,
   "metadata": {},
   "outputs": [],
   "source": [
    "import pandas as pd\n",
    "\n",
    "target_path = 'Data/Target/'\n",
    "stage_path = 'Data/Stage/'\n",
    "\n",
    "dim_city = pd.read_csv(target_path + 'DimCity.csv')\n",
    "customer = pd.read_csv(stage_path + 'customer.csv')"
   ]
  },
  {
   "cell_type": "code",
   "execution_count": 2,
   "metadata": {},
   "outputs": [
    {
     "data": {
      "text/plain": [
       "Customer ID\n",
       "1588    2\n",
       "1373    2\n",
       "1234    1\n",
       "1903    1\n",
       "1891    1\n",
       "       ..\n",
       "1571    1\n",
       "1572    1\n",
       "1573    1\n",
       "1574    1\n",
       "2231    1\n",
       "Name: count, Length: 998, dtype: int64"
      ]
     },
     "execution_count": 2,
     "metadata": {},
     "output_type": "execute_result"
    }
   ],
   "source": [
    "customer['Customer ID'].value_counts()"
   ]
  },
  {
   "cell_type": "code",
   "execution_count": 6,
   "metadata": {},
   "outputs": [
    {
     "data": {
      "text/plain": [
       "CityName\n",
       "Shreveport           1\n",
       "Covington            1\n",
       "Sunny Isles Beach    1\n",
       "Bainbridge           1\n",
       "Stuart               1\n",
       "Camden               1\n",
       "St. Petersburg       1\n",
       "Palmetto             1\n",
       "Columbus             1\n",
       "Savannah             1\n",
       "Chapel Hill          1\n",
       "Baton Rouge          1\n",
       "Birmingham           1\n",
       "New Orleans          1\n",
       "Montgomery           1\n",
       "Mobile               1\n",
       "Asheville            1\n",
       "Charlotte            1\n",
       "Adamsville           1\n",
       "Bluffton             1\n",
       "Greenville           1\n",
       "Charleston           1\n",
       "Avondale Estates     1\n",
       "Columbia             1\n",
       "Atlanta              1\n",
       "Fleming Island       1\n",
       "Name: count, dtype: int64"
      ]
     },
     "execution_count": 6,
     "metadata": {},
     "output_type": "execute_result"
    }
   ],
   "source": [
    "dim_city['CityName'].value_counts()"
   ]
  },
  {
   "cell_type": "code",
   "execution_count": 5,
   "metadata": {},
   "outputs": [
    {
     "data": {
      "text/plain": [
       "Customer ID\n",
       "1234    1\n",
       "1904    1\n",
       "1891    1\n",
       "1892    1\n",
       "1893    1\n",
       "       ..\n",
       "1571    1\n",
       "1572    1\n",
       "1573    1\n",
       "1574    1\n",
       "2231    1\n",
       "Name: count, Length: 998, dtype: int64"
      ]
     },
     "execution_count": 5,
     "metadata": {},
     "output_type": "execute_result"
    }
   ],
   "source": [
    "customer.drop_duplicates(subset=['Customer ID'], inplace=True)\n",
    "customer['Customer ID'].value_counts()"
   ]
  },
  {
   "cell_type": "code",
   "execution_count": 7,
   "metadata": {},
   "outputs": [],
   "source": [
    "df = pd.merge(customer, dim_city, how='left', left_on='City', right_on='CityName')"
   ]
  },
  {
   "cell_type": "code",
   "execution_count": 8,
   "metadata": {},
   "outputs": [
    {
     "data": {
      "text/html": [
       "<div>\n",
       "<style scoped>\n",
       "    .dataframe tbody tr th:only-of-type {\n",
       "        vertical-align: middle;\n",
       "    }\n",
       "\n",
       "    .dataframe tbody tr th {\n",
       "        vertical-align: top;\n",
       "    }\n",
       "\n",
       "    .dataframe thead th {\n",
       "        text-align: right;\n",
       "    }\n",
       "</style>\n",
       "<table border=\"1\" class=\"dataframe\">\n",
       "  <thead>\n",
       "    <tr style=\"text-align: right;\">\n",
       "      <th></th>\n",
       "      <th>CustomerKey</th>\n",
       "      <th>CityKey</th>\n",
       "      <th>Customer Last Name</th>\n",
       "      <th>Customer First Name</th>\n",
       "      <th>Phone</th>\n",
       "    </tr>\n",
       "  </thead>\n",
       "  <tbody>\n",
       "    <tr>\n",
       "      <th>0</th>\n",
       "      <td>1234</td>\n",
       "      <td>1</td>\n",
       "      <td>Hughes</td>\n",
       "      <td>Lewis</td>\n",
       "      <td>504-870-1437</td>\n",
       "    </tr>\n",
       "    <tr>\n",
       "      <th>1</th>\n",
       "      <td>1235</td>\n",
       "      <td>2</td>\n",
       "      <td>Gomez</td>\n",
       "      <td>Ali</td>\n",
       "      <td>337-400-1567</td>\n",
       "    </tr>\n",
       "    <tr>\n",
       "      <th>2</th>\n",
       "      <td>1236</td>\n",
       "      <td>3</td>\n",
       "      <td>Beck</td>\n",
       "      <td>Mila</td>\n",
       "      <td>404-573-7088</td>\n",
       "    </tr>\n",
       "    <tr>\n",
       "      <th>3</th>\n",
       "      <td>1237</td>\n",
       "      <td>4</td>\n",
       "      <td>Juarez</td>\n",
       "      <td>Ryleigh</td>\n",
       "      <td>252-325-9603</td>\n",
       "    </tr>\n",
       "    <tr>\n",
       "      <th>4</th>\n",
       "      <td>1238</td>\n",
       "      <td>5</td>\n",
       "      <td>Preston</td>\n",
       "      <td>Leonidas</td>\n",
       "      <td>404-383-9724</td>\n",
       "    </tr>\n",
       "    <tr>\n",
       "      <th>...</th>\n",
       "      <td>...</td>\n",
       "      <td>...</td>\n",
       "      <td>...</td>\n",
       "      <td>...</td>\n",
       "      <td>...</td>\n",
       "    </tr>\n",
       "    <tr>\n",
       "      <th>993</th>\n",
       "      <td>2227</td>\n",
       "      <td>1</td>\n",
       "      <td>Robbins</td>\n",
       "      <td>Crew</td>\n",
       "      <td>318-125-1831</td>\n",
       "    </tr>\n",
       "    <tr>\n",
       "      <th>994</th>\n",
       "      <td>2228</td>\n",
       "      <td>24</td>\n",
       "      <td>Salinas</td>\n",
       "      <td>Willow</td>\n",
       "      <td>404-248-4929</td>\n",
       "    </tr>\n",
       "    <tr>\n",
       "      <th>995</th>\n",
       "      <td>2229</td>\n",
       "      <td>1</td>\n",
       "      <td>Bond</td>\n",
       "      <td>Malachi</td>\n",
       "      <td>318-485-3209</td>\n",
       "    </tr>\n",
       "    <tr>\n",
       "      <th>996</th>\n",
       "      <td>2230</td>\n",
       "      <td>2</td>\n",
       "      <td>Willis</td>\n",
       "      <td>Patrick</td>\n",
       "      <td>337-795-4890</td>\n",
       "    </tr>\n",
       "    <tr>\n",
       "      <th>997</th>\n",
       "      <td>2231</td>\n",
       "      <td>11</td>\n",
       "      <td>Compton</td>\n",
       "      <td>Dallas</td>\n",
       "      <td>704-863-4035</td>\n",
       "    </tr>\n",
       "  </tbody>\n",
       "</table>\n",
       "<p>998 rows × 5 columns</p>\n",
       "</div>"
      ],
      "text/plain": [
       "     CustomerKey  CityKey Customer Last Name Customer First Name         Phone\n",
       "0           1234        1             Hughes               Lewis  504-870-1437\n",
       "1           1235        2              Gomez                 Ali  337-400-1567\n",
       "2           1236        3               Beck                Mila  404-573-7088\n",
       "3           1237        4             Juarez             Ryleigh  252-325-9603\n",
       "4           1238        5            Preston            Leonidas  404-383-9724\n",
       "..           ...      ...                ...                 ...           ...\n",
       "993         2227        1            Robbins                Crew  318-125-1831\n",
       "994         2228       24            Salinas              Willow  404-248-4929\n",
       "995         2229        1               Bond             Malachi  318-485-3209\n",
       "996         2230        2             Willis             Patrick  337-795-4890\n",
       "997         2231       11            Compton              Dallas  704-863-4035\n",
       "\n",
       "[998 rows x 5 columns]"
      ]
     },
     "execution_count": 8,
     "metadata": {},
     "output_type": "execute_result"
    }
   ],
   "source": [
    "cols = ['CustomerKey', 'CityKey', 'Customer Last Name', 'Customer First Name', 'Phone']\n",
    "rename = {'Customer ID': 'CustomerKey'}\n",
    "df.rename(columns=rename, inplace=True)\n",
    "df[cols]"
   ]
  },
  {
   "cell_type": "code",
   "execution_count": 9,
   "metadata": {},
   "outputs": [
    {
     "data": {
      "text/plain": [
       "CustomerKey\n",
       "1234    1\n",
       "1904    1\n",
       "1891    1\n",
       "1892    1\n",
       "1893    1\n",
       "       ..\n",
       "1571    1\n",
       "1572    1\n",
       "1573    1\n",
       "1574    1\n",
       "2231    1\n",
       "Name: count, Length: 998, dtype: int64"
      ]
     },
     "execution_count": 9,
     "metadata": {},
     "output_type": "execute_result"
    }
   ],
   "source": [
    "df['CustomerKey'].value_counts()"
   ]
  },
  {
   "cell_type": "code",
   "execution_count": 24,
   "metadata": {},
   "outputs": [
    {
     "data": {
      "text/html": [
       "<div>\n",
       "<style scoped>\n",
       "    .dataframe tbody tr th:only-of-type {\n",
       "        vertical-align: middle;\n",
       "    }\n",
       "\n",
       "    .dataframe tbody tr th {\n",
       "        vertical-align: top;\n",
       "    }\n",
       "\n",
       "    .dataframe thead th {\n",
       "        text-align: right;\n",
       "    }\n",
       "</style>\n",
       "<table border=\"1\" class=\"dataframe\">\n",
       "  <thead>\n",
       "    <tr style=\"text-align: right;\">\n",
       "      <th></th>\n",
       "      <th>Customer Last Name</th>\n",
       "      <th>Customer First Name</th>\n",
       "      <th>CustomerKey</th>\n",
       "      <th>Product Category</th>\n",
       "      <th>Order Date</th>\n",
       "      <th>Quantity Ordered</th>\n",
       "      <th>Order Status</th>\n",
       "      <th>State</th>\n",
       "      <th>Address</th>\n",
       "      <th>City</th>\n",
       "      <th>Postal Code</th>\n",
       "      <th>Sale Price</th>\n",
       "      <th>Phone</th>\n",
       "      <th>CityKey</th>\n",
       "      <th>StateKey</th>\n",
       "      <th>CityName</th>\n",
       "    </tr>\n",
       "  </thead>\n",
       "  <tbody>\n",
       "    <tr>\n",
       "      <th>354</th>\n",
       "      <td>Vega</td>\n",
       "      <td>Blake</td>\n",
       "      <td>1588</td>\n",
       "      <td>Books</td>\n",
       "      <td>2022-12-02</td>\n",
       "      <td>5</td>\n",
       "      <td>Delivered</td>\n",
       "      <td>GA</td>\n",
       "      <td>63913 Valley View Drive</td>\n",
       "      <td>Columbus</td>\n",
       "      <td>31901</td>\n",
       "      <td>329</td>\n",
       "      <td>762-827-9216</td>\n",
       "      <td>19</td>\n",
       "      <td>2</td>\n",
       "      <td>Columbus</td>\n",
       "    </tr>\n",
       "    <tr>\n",
       "      <th>858</th>\n",
       "      <td>Vega</td>\n",
       "      <td>Blake</td>\n",
       "      <td>1588</td>\n",
       "      <td>Personal Care</td>\n",
       "      <td>2022-12-03</td>\n",
       "      <td>17</td>\n",
       "      <td>Shipped</td>\n",
       "      <td>GA</td>\n",
       "      <td>63913 Valley View Drive</td>\n",
       "      <td>Avondale Estates</td>\n",
       "      <td>30002</td>\n",
       "      <td>214</td>\n",
       "      <td>678-878-1111</td>\n",
       "      <td>5</td>\n",
       "      <td>2</td>\n",
       "      <td>Avondale Estates</td>\n",
       "    </tr>\n",
       "  </tbody>\n",
       "</table>\n",
       "</div>"
      ],
      "text/plain": [
       "    Customer Last Name Customer First Name  CustomerKey Product Category  \\\n",
       "354               Vega               Blake         1588            Books   \n",
       "858               Vega               Blake         1588    Personal Care   \n",
       "\n",
       "     Order Date  Quantity Ordered Order Status State                  Address  \\\n",
       "354  2022-12-02                 5    Delivered    GA  63913 Valley View Drive   \n",
       "858  2022-12-03                17      Shipped    GA  63913 Valley View Drive   \n",
       "\n",
       "                 City  Postal Code  Sale Price         Phone  CityKey  \\\n",
       "354          Columbus        31901         329  762-827-9216       19   \n",
       "858  Avondale Estates        30002         214  678-878-1111        5   \n",
       "\n",
       "     StateKey          CityName  \n",
       "354         2          Columbus  \n",
       "858         2  Avondale Estates  "
      ]
     },
     "execution_count": 24,
     "metadata": {},
     "output_type": "execute_result"
    }
   ],
   "source": [
    "df[df['CustomerKey'] == 1588]"
   ]
  },
  {
   "cell_type": "code",
   "execution_count": 10,
   "metadata": {},
   "outputs": [],
   "source": [
    "df[cols].to_csv(target_path + 'DimCustomer.csv', index=False)"
   ]
  },
  {
   "cell_type": "code",
   "execution_count": null,
   "metadata": {},
   "outputs": [],
   "source": []
  }
 ],
 "metadata": {
  "kernelspec": {
   "display_name": "Python 3",
   "language": "python",
   "name": "python3"
  },
  "language_info": {
   "codemirror_mode": {
    "name": "ipython",
    "version": 3
   },
   "file_extension": ".py",
   "mimetype": "text/x-python",
   "name": "python",
   "nbconvert_exporter": "python",
   "pygments_lexer": "ipython3",
   "version": "3.12.3"
  }
 },
 "nbformat": 4,
 "nbformat_minor": 2
}
