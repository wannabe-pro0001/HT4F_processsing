{
 "cells": [
  {
   "cell_type": "code",
   "execution_count": 1,
   "metadata": {},
   "outputs": [
    {
     "name": "stdout",
     "output_type": "stream",
     "text": [
      "Collecting pandas (from -r requires.txt (line 1))Note: you may need to restart the kernel to use updated packages.\n",
      "\n",
      "  Using cached pandas-2.2.2-cp312-cp312-win_amd64.whl.metadata (19 kB)\n",
      "Collecting openpyxl (from -r requires.txt (line 2))\n",
      "  Using cached openpyxl-3.1.3-py2.py3-none-any.whl.metadata (2.5 kB)\n",
      "Collecting numpy>=1.26.0 (from pandas->-r requires.txt (line 1))\n",
      "  Using cached numpy-1.26.4-cp312-cp312-win_amd64.whl.metadata (61 kB)\n",
      "Requirement already satisfied: python-dateutil>=2.8.2 in e:\\ide_workspace\\ht4f\\env\\lib\\site-packages (from pandas->-r requires.txt (line 1)) (2.9.0.post0)\n",
      "Collecting pytz>=2020.1 (from pandas->-r requires.txt (line 1))\n",
      "  Using cached pytz-2024.1-py2.py3-none-any.whl.metadata (22 kB)\n",
      "Collecting tzdata>=2022.7 (from pandas->-r requires.txt (line 1))\n",
      "  Using cached tzdata-2024.1-py2.py3-none-any.whl.metadata (1.4 kB)\n",
      "Collecting et-xmlfile (from openpyxl->-r requires.txt (line 2))\n",
      "  Using cached et_xmlfile-1.1.0-py3-none-any.whl.metadata (1.8 kB)\n",
      "Requirement already satisfied: six>=1.5 in e:\\ide_workspace\\ht4f\\env\\lib\\site-packages (from python-dateutil>=2.8.2->pandas->-r requires.txt (line 1)) (1.16.0)\n",
      "Using cached pandas-2.2.2-cp312-cp312-win_amd64.whl (11.5 MB)\n",
      "Using cached openpyxl-3.1.3-py2.py3-none-any.whl (251 kB)\n",
      "Using cached numpy-1.26.4-cp312-cp312-win_amd64.whl (15.5 MB)\n",
      "Using cached pytz-2024.1-py2.py3-none-any.whl (505 kB)\n",
      "Using cached tzdata-2024.1-py2.py3-none-any.whl (345 kB)\n",
      "Using cached et_xmlfile-1.1.0-py3-none-any.whl (4.7 kB)\n",
      "Installing collected packages: pytz, tzdata, numpy, et-xmlfile, pandas, openpyxl\n",
      "Successfully installed et-xmlfile-1.1.0 numpy-1.26.4 openpyxl-3.1.3 pandas-2.2.2 pytz-2024.1 tzdata-2024.1\n"
     ]
    }
   ],
   "source": [
    "%pip install -r requires.txt"
   ]
  },
  {
   "cell_type": "code",
   "execution_count": 6,
   "metadata": {},
   "outputs": [
    {
     "data": {
      "text/plain": [
       "(3000, 14)"
      ]
     },
     "execution_count": 6,
     "metadata": {},
     "output_type": "execute_result"
    }
   ],
   "source": [
    "import pandas as pd\n",
    "\n",
    "dataset_path = r'Data\\Original\\Dataset.xlsx'\n",
    "stage_base_path = r'Data\\Stage'\n",
    "\n",
    "dict_df = pd.read_excel(dataset_path, \n",
    "                            sheet_name=[i for i in range(4)])\n",
    "\n",
    "customer = dict_df.get(3)\n",
    "sales = pd.concat([dict_df.get(i) for i in range(3)])\n",
    "sales.shape"
   ]
  },
  {
   "cell_type": "code",
   "execution_count": 7,
   "metadata": {},
   "outputs": [
    {
     "data": {
      "text/plain": [
       "True"
      ]
     },
     "execution_count": 7,
     "metadata": {},
     "output_type": "execute_result"
    }
   ],
   "source": [
    "a = set(sales['Customer ID'])\n",
    "b = set(customer['Customer ID'])\n",
    "a == b"
   ]
  },
  {
   "cell_type": "code",
   "execution_count": 8,
   "metadata": {},
   "outputs": [
    {
     "name": "stdout",
     "output_type": "stream",
     "text": [
      "<class 'pandas.core.frame.DataFrame'>\n",
      "Index: 3000 entries, 0 to 999\n",
      "Data columns (total 14 columns):\n",
      " #   Column                Non-Null Count  Dtype         \n",
      "---  ------                --------------  -----         \n",
      " 0   Order ID              3000 non-null   int64         \n",
      " 1   Customer Last Name    3000 non-null   object        \n",
      " 2   Customer First Name   3000 non-null   object        \n",
      " 3   Customer ID           3000 non-null   int64         \n",
      " 4   Product Category      3000 non-null   object        \n",
      " 5   Order Date            3000 non-null   datetime64[ns]\n",
      " 6   Quantity Ordered      3000 non-null   int64         \n",
      " 7   Order Status          3000 non-null   object        \n",
      " 8   State                 3000 non-null   object        \n",
      " 9   Manufacturer Price    3000 non-null   int64         \n",
      " 10  Sale Price            3000 non-null   int64         \n",
      " 11  Total Profit (GMROI)  3000 non-null   int64         \n",
      " 12  Sales Agent           3000 non-null   object        \n",
      " 13  Return Reason         309 non-null    object        \n",
      "dtypes: datetime64[ns](1), int64(6), object(7)\n",
      "memory usage: 351.6+ KB\n"
     ]
    }
   ],
   "source": [
    "sales.info()"
   ]
  },
  {
   "cell_type": "code",
   "execution_count": 9,
   "metadata": {},
   "outputs": [
    {
     "name": "stdout",
     "output_type": "stream",
     "text": [
      "<class 'pandas.core.frame.DataFrame'>\n",
      "RangeIndex: 1000 entries, 0 to 999\n",
      "Data columns (total 13 columns):\n",
      " #   Column               Non-Null Count  Dtype         \n",
      "---  ------               --------------  -----         \n",
      " 0   Customer Last Name   1000 non-null   object        \n",
      " 1   Customer First Name  1000 non-null   object        \n",
      " 2   Customer ID          1000 non-null   int64         \n",
      " 3   Product Category     1000 non-null   object        \n",
      " 4   Order Date           1000 non-null   datetime64[ns]\n",
      " 5   Quantity Ordered     1000 non-null   int64         \n",
      " 6   Order Status         1000 non-null   object        \n",
      " 7   State                1000 non-null   object        \n",
      " 8   Address              1000 non-null   object        \n",
      " 9   City                 1000 non-null   object        \n",
      " 10  Postal Code          1000 non-null   int64         \n",
      " 11  Sale Price           1000 non-null   int64         \n",
      " 12  Phone                1000 non-null   object        \n",
      "dtypes: datetime64[ns](1), int64(4), object(8)\n",
      "memory usage: 101.7+ KB\n"
     ]
    }
   ],
   "source": [
    "customer.info()"
   ]
  },
  {
   "cell_type": "code",
   "execution_count": 55,
   "metadata": {},
   "outputs": [
    {
     "data": {
      "text/html": [
       "<div>\n",
       "<style scoped>\n",
       "    .dataframe tbody tr th:only-of-type {\n",
       "        vertical-align: middle;\n",
       "    }\n",
       "\n",
       "    .dataframe tbody tr th {\n",
       "        vertical-align: top;\n",
       "    }\n",
       "\n",
       "    .dataframe thead th {\n",
       "        text-align: right;\n",
       "    }\n",
       "</style>\n",
       "<table border=\"1\" class=\"dataframe\">\n",
       "  <thead>\n",
       "    <tr style=\"text-align: right;\">\n",
       "      <th></th>\n",
       "      <th>Order ID</th>\n",
       "      <th>Customer Last Name</th>\n",
       "      <th>Customer First Name</th>\n",
       "      <th>Customer ID</th>\n",
       "      <th>Product Category</th>\n",
       "      <th>Order Date</th>\n",
       "      <th>Quantity Ordered</th>\n",
       "      <th>Order Status</th>\n",
       "      <th>State</th>\n",
       "      <th>Manufacturer Price</th>\n",
       "      <th>Sale Price</th>\n",
       "      <th>Total Profit (GMROI)</th>\n",
       "      <th>Sales Agent</th>\n",
       "      <th>Return Reason</th>\n",
       "    </tr>\n",
       "  </thead>\n",
       "  <tbody>\n",
       "    <tr>\n",
       "      <th>354</th>\n",
       "      <td>2355</td>\n",
       "      <td>Vega</td>\n",
       "      <td>Blake</td>\n",
       "      <td>1588</td>\n",
       "      <td>Books</td>\n",
       "      <td>2022-11-08</td>\n",
       "      <td>20</td>\n",
       "      <td>Shipped</td>\n",
       "      <td>GA</td>\n",
       "      <td>1070</td>\n",
       "      <td>1351</td>\n",
       "      <td>281</td>\n",
       "      <td>Kelly</td>\n",
       "      <td>NaN</td>\n",
       "    </tr>\n",
       "    <tr>\n",
       "      <th>858</th>\n",
       "      <td>2859</td>\n",
       "      <td>Vega</td>\n",
       "      <td>Blake</td>\n",
       "      <td>1588</td>\n",
       "      <td>Personal Care</td>\n",
       "      <td>2022-11-25</td>\n",
       "      <td>6</td>\n",
       "      <td>In Transit</td>\n",
       "      <td>GA</td>\n",
       "      <td>1390</td>\n",
       "      <td>1581</td>\n",
       "      <td>191</td>\n",
       "      <td>Kelly</td>\n",
       "      <td>NaN</td>\n",
       "    </tr>\n",
       "  </tbody>\n",
       "</table>\n",
       "</div>"
      ],
      "text/plain": [
       "     Order ID Customer Last Name Customer First Name  Customer ID  \\\n",
       "354      2355               Vega               Blake         1588   \n",
       "858      2859               Vega               Blake         1588   \n",
       "\n",
       "    Product Category Order Date  Quantity Ordered Order Status State  \\\n",
       "354            Books 2022-11-08                20      Shipped    GA   \n",
       "858    Personal Care 2022-11-25                 6   In Transit    GA   \n",
       "\n",
       "     Manufacturer Price  Sale Price  Total Profit (GMROI) Sales Agent  \\\n",
       "354                1070        1351                   281       Kelly   \n",
       "858                1390        1581                   191       Kelly   \n",
       "\n",
       "    Return Reason  \n",
       "354           NaN  \n",
       "858           NaN  "
      ]
     },
     "execution_count": 55,
     "metadata": {},
     "output_type": "execute_result"
    }
   ],
   "source": [
    "sales10 = dict_df.get()\n",
    "sales10[sales10['Customer ID'] == 1588]"
   ]
  },
  {
   "cell_type": "code",
   "execution_count": 53,
   "metadata": {},
   "outputs": [
    {
     "data": {
      "text/html": [
       "<div>\n",
       "<style scoped>\n",
       "    .dataframe tbody tr th:only-of-type {\n",
       "        vertical-align: middle;\n",
       "    }\n",
       "\n",
       "    .dataframe tbody tr th {\n",
       "        vertical-align: top;\n",
       "    }\n",
       "\n",
       "    .dataframe thead th {\n",
       "        text-align: right;\n",
       "    }\n",
       "</style>\n",
       "<table border=\"1\" class=\"dataframe\">\n",
       "  <thead>\n",
       "    <tr style=\"text-align: right;\">\n",
       "      <th></th>\n",
       "      <th>Order ID</th>\n",
       "      <th>Customer Last Name</th>\n",
       "      <th>Customer First Name</th>\n",
       "      <th>Customer ID</th>\n",
       "      <th>Product Category</th>\n",
       "      <th>Order Date</th>\n",
       "      <th>Quantity Ordered</th>\n",
       "      <th>Order Status</th>\n",
       "      <th>State</th>\n",
       "      <th>Manufacturer Price</th>\n",
       "      <th>Sale Price</th>\n",
       "      <th>Total Profit (GMROI)</th>\n",
       "      <th>Sales Agent</th>\n",
       "      <th>Return Reason</th>\n",
       "    </tr>\n",
       "  </thead>\n",
       "  <tbody>\n",
       "    <tr>\n",
       "      <th>139</th>\n",
       "      <td>1140</td>\n",
       "      <td>Shepherd</td>\n",
       "      <td>Charli</td>\n",
       "      <td>1373</td>\n",
       "      <td>Clothing</td>\n",
       "      <td>2022-10-17</td>\n",
       "      <td>12</td>\n",
       "      <td>Delivered</td>\n",
       "      <td>SC</td>\n",
       "      <td>1005</td>\n",
       "      <td>1219</td>\n",
       "      <td>214</td>\n",
       "      <td>Kelly</td>\n",
       "      <td>NaN</td>\n",
       "    </tr>\n",
       "    <tr>\n",
       "      <th>381</th>\n",
       "      <td>1382</td>\n",
       "      <td>Shepherd</td>\n",
       "      <td>Charli</td>\n",
       "      <td>1373</td>\n",
       "      <td>Sports &amp; Outdoors</td>\n",
       "      <td>2022-10-26</td>\n",
       "      <td>12</td>\n",
       "      <td>Cancelled</td>\n",
       "      <td>SC</td>\n",
       "      <td>740</td>\n",
       "      <td>847</td>\n",
       "      <td>107</td>\n",
       "      <td>Brian</td>\n",
       "      <td>Unsatisfied</td>\n",
       "    </tr>\n",
       "  </tbody>\n",
       "</table>\n",
       "</div>"
      ],
      "text/plain": [
       "     Order ID  Customer Last Name Customer First Name  Customer ID  \\\n",
       "139       1140           Shepherd              Charli         1373   \n",
       "381       1382           Shepherd              Charli         1373   \n",
       "\n",
       "      Product Category Order Date  Quantity Ordered Order Status State  \\\n",
       "139           Clothing 2022-10-17                12    Delivered    SC   \n",
       "381  Sports & Outdoors 2022-10-26                12    Cancelled    SC   \n",
       "\n",
       "     Manufacturer Price  Sale Price  Total Profit (GMROI) Sales Agent  \\\n",
       "139                1005        1219                   214       Kelly   \n",
       "381                 740         847                   107       Brian   \n",
       "\n",
       "    Return Reason  \n",
       "139           NaN  \n",
       "381   Unsatisfied  "
      ]
     },
     "execution_count": 53,
     "metadata": {},
     "output_type": "execute_result"
    }
   ],
   "source": [
    "sales10[sales10['Customer ID'] == 1373]"
   ]
  },
  {
   "cell_type": "code",
   "execution_count": 10,
   "metadata": {},
   "outputs": [],
   "source": [
    "sales.to_csv(stage_base_path + r'\\sales.csv', index=False)\n",
    "customer.to_csv(stage_base_path + r'\\customer.csv', index=False)"
   ]
  },
  {
   "cell_type": "code",
   "execution_count": null,
   "metadata": {},
   "outputs": [],
   "source": []
  }
 ],
 "metadata": {
  "kernelspec": {
   "display_name": "Python 3",
   "language": "python",
   "name": "python3"
  },
  "language_info": {
   "codemirror_mode": {
    "name": "ipython",
    "version": 3
   },
   "file_extension": ".py",
   "mimetype": "text/x-python",
   "name": "python",
   "nbconvert_exporter": "python",
   "pygments_lexer": "ipython3",
   "version": "3.12.3"
  }
 },
 "nbformat": 4,
 "nbformat_minor": 2
}
