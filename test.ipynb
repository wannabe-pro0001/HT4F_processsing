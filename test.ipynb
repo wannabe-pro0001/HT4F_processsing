{
 "cells": [
  {
   "cell_type": "code",
   "execution_count": null,
   "metadata": {},
   "outputs": [],
   "source": [
    "%pip install -r requires.txt"
   ]
  },
  {
   "cell_type": "code",
   "execution_count": 1,
   "metadata": {},
   "outputs": [
    {
     "data": {
      "text/plain": [
       "(3000, 14)"
      ]
     },
     "execution_count": 1,
     "metadata": {},
     "output_type": "execute_result"
    }
   ],
   "source": [
    "import pandas as pd\n",
    "\n",
    "dataset_path = r'Data\\Original\\Dataset.xlsx'\n",
    "stage_base_path = r'Data\\Stage'\n",
    "\n",
    "dict_df = pd.read_excel(dataset_path, \n",
    "                            sheet_name=[i for i in range(4)])\n",
    "\n",
    "customer = dict_df.get(3)\n",
    "sales = pd.concat([dict_df.get(i) for i in range(3)])\n",
    "sales.shape"
   ]
  },
  {
   "cell_type": "code",
   "execution_count": 5,
   "metadata": {},
   "outputs": [
    {
     "name": "stdout",
     "output_type": "stream",
     "text": [
      "998\n"
     ]
    },
    {
     "data": {
      "text/plain": [
       "True"
      ]
     },
     "execution_count": 5,
     "metadata": {},
     "output_type": "execute_result"
    }
   ],
   "source": [
    "print(len(customer['Customer ID'].unique()))\n",
    "a = set(sales['Customer ID'])\n",
    "b = set(customer['Customer ID'])\n",
    "a == b"
   ]
  },
  {
   "cell_type": "code",
   "execution_count": 8,
   "metadata": {},
   "outputs": [
    {
     "name": "stdout",
     "output_type": "stream",
     "text": [
      "<class 'pandas.core.frame.DataFrame'>\n",
      "Index: 3000 entries, 0 to 999\n",
      "Data columns (total 14 columns):\n",
      " #   Column                Non-Null Count  Dtype         \n",
      "---  ------                --------------  -----         \n",
      " 0   Order ID              3000 non-null   int64         \n",
      " 1   Customer Last Name    3000 non-null   object        \n",
      " 2   Customer First Name   3000 non-null   object        \n",
      " 3   Customer ID           3000 non-null   int64         \n",
      " 4   Product Category      3000 non-null   object        \n",
      " 5   Order Date            3000 non-null   datetime64[ns]\n",
      " 6   Quantity Ordered      3000 non-null   int64         \n",
      " 7   Order Status          3000 non-null   object        \n",
      " 8   State                 3000 non-null   object        \n",
      " 9   Manufacturer Price    3000 non-null   int64         \n",
      " 10  Sale Price            3000 non-null   int64         \n",
      " 11  Total Profit (GMROI)  3000 non-null   int64         \n",
      " 12  Sales Agent           3000 non-null   object        \n",
      " 13  Return Reason         309 non-null    object        \n",
      "dtypes: datetime64[ns](1), int64(6), object(7)\n",
      "memory usage: 351.6+ KB\n"
     ]
    }
   ],
   "source": [
    "sales.info()"
   ]
  },
  {
   "cell_type": "code",
   "execution_count": 9,
   "metadata": {},
   "outputs": [
    {
     "name": "stdout",
     "output_type": "stream",
     "text": [
      "<class 'pandas.core.frame.DataFrame'>\n",
      "RangeIndex: 1000 entries, 0 to 999\n",
      "Data columns (total 13 columns):\n",
      " #   Column               Non-Null Count  Dtype         \n",
      "---  ------               --------------  -----         \n",
      " 0   Customer Last Name   1000 non-null   object        \n",
      " 1   Customer First Name  1000 non-null   object        \n",
      " 2   Customer ID          1000 non-null   int64         \n",
      " 3   Product Category     1000 non-null   object        \n",
      " 4   Order Date           1000 non-null   datetime64[ns]\n",
      " 5   Quantity Ordered     1000 non-null   int64         \n",
      " 6   Order Status         1000 non-null   object        \n",
      " 7   State                1000 non-null   object        \n",
      " 8   Address              1000 non-null   object        \n",
      " 9   City                 1000 non-null   object        \n",
      " 10  Postal Code          1000 non-null   int64         \n",
      " 11  Sale Price           1000 non-null   int64         \n",
      " 12  Phone                1000 non-null   object        \n",
      "dtypes: datetime64[ns](1), int64(4), object(8)\n",
      "memory usage: 101.7+ KB\n"
     ]
    }
   ],
   "source": [
    "customer.info()"
   ]
  },
  {
   "cell_type": "code",
   "execution_count": 55,
   "metadata": {},
   "outputs": [
    {
     "data": {
      "text/html": [
       "<div>\n",
       "<style scoped>\n",
       "    .dataframe tbody tr th:only-of-type {\n",
       "        vertical-align: middle;\n",
       "    }\n",
       "\n",
       "    .dataframe tbody tr th {\n",
       "        vertical-align: top;\n",
       "    }\n",
       "\n",
       "    .dataframe thead th {\n",
       "        text-align: right;\n",
       "    }\n",
       "</style>\n",
       "<table border=\"1\" class=\"dataframe\">\n",
       "  <thead>\n",
       "    <tr style=\"text-align: right;\">\n",
       "      <th></th>\n",
       "      <th>Order ID</th>\n",
       "      <th>Customer Last Name</th>\n",
       "      <th>Customer First Name</th>\n",
       "      <th>Customer ID</th>\n",
       "      <th>Product Category</th>\n",
       "      <th>Order Date</th>\n",
       "      <th>Quantity Ordered</th>\n",
       "      <th>Order Status</th>\n",
       "      <th>State</th>\n",
       "      <th>Manufacturer Price</th>\n",
       "      <th>Sale Price</th>\n",
       "      <th>Total Profit (GMROI)</th>\n",
       "      <th>Sales Agent</th>\n",
       "      <th>Return Reason</th>\n",
       "    </tr>\n",
       "  </thead>\n",
       "  <tbody>\n",
       "    <tr>\n",
       "      <th>354</th>\n",
       "      <td>2355</td>\n",
       "      <td>Vega</td>\n",
       "      <td>Blake</td>\n",
       "      <td>1588</td>\n",
       "      <td>Books</td>\n",
       "      <td>2022-11-08</td>\n",
       "      <td>20</td>\n",
       "      <td>Shipped</td>\n",
       "      <td>GA</td>\n",
       "      <td>1070</td>\n",
       "      <td>1351</td>\n",
       "      <td>281</td>\n",
       "      <td>Kelly</td>\n",
       "      <td>NaN</td>\n",
       "    </tr>\n",
       "    <tr>\n",
       "      <th>858</th>\n",
       "      <td>2859</td>\n",
       "      <td>Vega</td>\n",
       "      <td>Blake</td>\n",
       "      <td>1588</td>\n",
       "      <td>Personal Care</td>\n",
       "      <td>2022-11-25</td>\n",
       "      <td>6</td>\n",
       "      <td>In Transit</td>\n",
       "      <td>GA</td>\n",
       "      <td>1390</td>\n",
       "      <td>1581</td>\n",
       "      <td>191</td>\n",
       "      <td>Kelly</td>\n",
       "      <td>NaN</td>\n",
       "    </tr>\n",
       "  </tbody>\n",
       "</table>\n",
       "</div>"
      ],
      "text/plain": [
       "     Order ID Customer Last Name Customer First Name  Customer ID  \\\n",
       "354      2355               Vega               Blake         1588   \n",
       "858      2859               Vega               Blake         1588   \n",
       "\n",
       "    Product Category Order Date  Quantity Ordered Order Status State  \\\n",
       "354            Books 2022-11-08                20      Shipped    GA   \n",
       "858    Personal Care 2022-11-25                 6   In Transit    GA   \n",
       "\n",
       "     Manufacturer Price  Sale Price  Total Profit (GMROI) Sales Agent  \\\n",
       "354                1070        1351                   281       Kelly   \n",
       "858                1390        1581                   191       Kelly   \n",
       "\n",
       "    Return Reason  \n",
       "354           NaN  \n",
       "858           NaN  "
      ]
     },
     "execution_count": 55,
     "metadata": {},
     "output_type": "execute_result"
    }
   ],
   "source": [
    "sales10 = dict_df.get()\n",
    "sales10[sales10['Customer ID'] == 1588]"
   ]
  },
  {
   "cell_type": "code",
   "execution_count": 53,
   "metadata": {},
   "outputs": [
    {
     "data": {
      "text/html": [
       "<div>\n",
       "<style scoped>\n",
       "    .dataframe tbody tr th:only-of-type {\n",
       "        vertical-align: middle;\n",
       "    }\n",
       "\n",
       "    .dataframe tbody tr th {\n",
       "        vertical-align: top;\n",
       "    }\n",
       "\n",
       "    .dataframe thead th {\n",
       "        text-align: right;\n",
       "    }\n",
       "</style>\n",
       "<table border=\"1\" class=\"dataframe\">\n",
       "  <thead>\n",
       "    <tr style=\"text-align: right;\">\n",
       "      <th></th>\n",
       "      <th>Order ID</th>\n",
       "      <th>Customer Last Name</th>\n",
       "      <th>Customer First Name</th>\n",
       "      <th>Customer ID</th>\n",
       "      <th>Product Category</th>\n",
       "      <th>Order Date</th>\n",
       "      <th>Quantity Ordered</th>\n",
       "      <th>Order Status</th>\n",
       "      <th>State</th>\n",
       "      <th>Manufacturer Price</th>\n",
       "      <th>Sale Price</th>\n",
       "      <th>Total Profit (GMROI)</th>\n",
       "      <th>Sales Agent</th>\n",
       "      <th>Return Reason</th>\n",
       "    </tr>\n",
       "  </thead>\n",
       "  <tbody>\n",
       "    <tr>\n",
       "      <th>139</th>\n",
       "      <td>1140</td>\n",
       "      <td>Shepherd</td>\n",
       "      <td>Charli</td>\n",
       "      <td>1373</td>\n",
       "      <td>Clothing</td>\n",
       "      <td>2022-10-17</td>\n",
       "      <td>12</td>\n",
       "      <td>Delivered</td>\n",
       "      <td>SC</td>\n",
       "      <td>1005</td>\n",
       "      <td>1219</td>\n",
       "      <td>214</td>\n",
       "      <td>Kelly</td>\n",
       "      <td>NaN</td>\n",
       "    </tr>\n",
       "    <tr>\n",
       "      <th>381</th>\n",
       "      <td>1382</td>\n",
       "      <td>Shepherd</td>\n",
       "      <td>Charli</td>\n",
       "      <td>1373</td>\n",
       "      <td>Sports &amp; Outdoors</td>\n",
       "      <td>2022-10-26</td>\n",
       "      <td>12</td>\n",
       "      <td>Cancelled</td>\n",
       "      <td>SC</td>\n",
       "      <td>740</td>\n",
       "      <td>847</td>\n",
       "      <td>107</td>\n",
       "      <td>Brian</td>\n",
       "      <td>Unsatisfied</td>\n",
       "    </tr>\n",
       "  </tbody>\n",
       "</table>\n",
       "</div>"
      ],
      "text/plain": [
       "     Order ID  Customer Last Name Customer First Name  Customer ID  \\\n",
       "139       1140           Shepherd              Charli         1373   \n",
       "381       1382           Shepherd              Charli         1373   \n",
       "\n",
       "      Product Category Order Date  Quantity Ordered Order Status State  \\\n",
       "139           Clothing 2022-10-17                12    Delivered    SC   \n",
       "381  Sports & Outdoors 2022-10-26                12    Cancelled    SC   \n",
       "\n",
       "     Manufacturer Price  Sale Price  Total Profit (GMROI) Sales Agent  \\\n",
       "139                1005        1219                   214       Kelly   \n",
       "381                 740         847                   107       Brian   \n",
       "\n",
       "    Return Reason  \n",
       "139           NaN  \n",
       "381   Unsatisfied  "
      ]
     },
     "execution_count": 53,
     "metadata": {},
     "output_type": "execute_result"
    }
   ],
   "source": [
    "sales10[sales10['Customer ID'] == 1373]"
   ]
  },
  {
   "cell_type": "code",
   "execution_count": 10,
   "metadata": {},
   "outputs": [],
   "source": [
    "sales.to_csv(stage_base_path + r'\\sales.csv', index=False)\n",
    "customer.to_csv(stage_base_path + r'\\customer.csv', index=False)"
   ]
  },
  {
   "cell_type": "code",
   "execution_count": 29,
   "metadata": {},
   "outputs": [
    {
     "ename": "ValueError",
     "evalue": "invalid literal for int() with base 10: 'S'",
     "output_type": "error",
     "traceback": [
      "\u001b[1;31m---------------------------------------------------------------------------\u001b[0m",
      "\u001b[1;31mValueError\u001b[0m                                Traceback (most recent call last)",
      "Cell \u001b[1;32mIn[29], line 2\u001b[0m\n\u001b[0;32m      1\u001b[0m cols \u001b[38;5;241m=\u001b[39m [\u001b[38;5;124m'\u001b[39m\u001b[38;5;124mSale Price\u001b[39m\u001b[38;5;124m'\u001b[39m, \u001b[38;5;124m'\u001b[39m\u001b[38;5;124mManufacturer Price\u001b[39m\u001b[38;5;124m'\u001b[39m, \u001b[38;5;124m'\u001b[39m\u001b[38;5;124mTotal Profit (GMROI)\u001b[39m\u001b[38;5;124m'\u001b[39m]\n\u001b[1;32m----> 2\u001b[0m \u001b[38;5;28;43mlist\u001b[39;49m\u001b[43m(\u001b[49m\u001b[38;5;28;43mfilter\u001b[39;49m\u001b[43m(\u001b[49m\u001b[38;5;28;43;01mlambda\u001b[39;49;00m\u001b[43m \u001b[49m\u001b[43mx\u001b[49m\u001b[43m:\u001b[49m\u001b[43m \u001b[49m\u001b[38;5;28;43mint\u001b[39;49m\u001b[43m(\u001b[49m\u001b[43mx\u001b[49m\u001b[43m[\u001b[49m\u001b[38;5;241;43m0\u001b[39;49m\u001b[43m]\u001b[49m\u001b[43m)\u001b[49m\u001b[43m \u001b[49m\u001b[38;5;241;43m-\u001b[39;49m\u001b[43m \u001b[49m\u001b[38;5;28;43mint\u001b[39;49m\u001b[43m(\u001b[49m\u001b[43mx\u001b[49m\u001b[43m[\u001b[49m\u001b[38;5;241;43m1\u001b[39;49m\u001b[43m]\u001b[49m\u001b[43m)\u001b[49m\u001b[43m \u001b[49m\u001b[38;5;241;43m==\u001b[39;49m\u001b[43m \u001b[49m\u001b[38;5;28;43mint\u001b[39;49m\u001b[43m(\u001b[49m\u001b[43mx\u001b[49m\u001b[43m[\u001b[49m\u001b[38;5;241;43m2\u001b[39;49m\u001b[43m]\u001b[49m\u001b[43m)\u001b[49m\u001b[43m,\u001b[49m\u001b[43m \u001b[49m\u001b[43msales\u001b[49m\u001b[43m[\u001b[49m\u001b[43mcols\u001b[49m\u001b[43m]\u001b[49m\u001b[43m)\u001b[49m\u001b[43m)\u001b[49m\n",
      "Cell \u001b[1;32mIn[29], line 2\u001b[0m, in \u001b[0;36m<lambda>\u001b[1;34m(x)\u001b[0m\n\u001b[0;32m      1\u001b[0m cols \u001b[38;5;241m=\u001b[39m [\u001b[38;5;124m'\u001b[39m\u001b[38;5;124mSale Price\u001b[39m\u001b[38;5;124m'\u001b[39m, \u001b[38;5;124m'\u001b[39m\u001b[38;5;124mManufacturer Price\u001b[39m\u001b[38;5;124m'\u001b[39m, \u001b[38;5;124m'\u001b[39m\u001b[38;5;124mTotal Profit (GMROI)\u001b[39m\u001b[38;5;124m'\u001b[39m]\n\u001b[1;32m----> 2\u001b[0m \u001b[38;5;28mlist\u001b[39m(\u001b[38;5;28mfilter\u001b[39m(\u001b[38;5;28;01mlambda\u001b[39;00m x: \u001b[38;5;28;43mint\u001b[39;49m\u001b[43m(\u001b[49m\u001b[43mx\u001b[49m\u001b[43m[\u001b[49m\u001b[38;5;241;43m0\u001b[39;49m\u001b[43m]\u001b[49m\u001b[43m)\u001b[49m \u001b[38;5;241m-\u001b[39m \u001b[38;5;28mint\u001b[39m(x[\u001b[38;5;241m1\u001b[39m]) \u001b[38;5;241m==\u001b[39m \u001b[38;5;28mint\u001b[39m(x[\u001b[38;5;241m2\u001b[39m]), sales[cols]))\n",
      "\u001b[1;31mValueError\u001b[0m: invalid literal for int() with base 10: 'S'"
     ]
    }
   ],
   "source": [
    "cols = ['Sale Price', 'Manufacturer Price', 'Total Profit (GMROI)']\n",
    "list(filter(lambda x: x[0] - x[1] == x[2]), sales[cols])"
   ]
  },
  {
   "cell_type": "code",
   "execution_count": 40,
   "metadata": {},
   "outputs": [
    {
     "data": {
      "text/plain": [
       "0"
      ]
     },
     "execution_count": 40,
     "metadata": {},
     "output_type": "execute_result"
    }
   ],
   "source": [
    "temp = list(sales['Sale Price'] - sales['Manufacturer Price'] == sales['Total Profit (GMROI)'])\n",
    "len(list(filter(lambda x: not x, temp)))"
   ]
  },
  {
   "cell_type": "code",
   "execution_count": null,
   "metadata": {},
   "outputs": [],
   "source": []
  }
 ],
 "metadata": {
  "kernelspec": {
   "display_name": "Python 3",
   "language": "python",
   "name": "python3"
  },
  "language_info": {
   "codemirror_mode": {
    "name": "ipython",
    "version": 3
   },
   "file_extension": ".py",
   "mimetype": "text/x-python",
   "name": "python",
   "nbconvert_exporter": "python",
   "pygments_lexer": "ipython3",
   "version": "3.12.3"
  }
 },
 "nbformat": 4,
 "nbformat_minor": 2
}
